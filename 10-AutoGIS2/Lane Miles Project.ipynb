{
 "cells": [
  {
   "cell_type": "markdown",
   "id": "medium-spine",
   "metadata": {},
   "source": [
    "## AutoGIS Part 2\n",
    "\n",
    "This series of lessons is about automating Geographic Information Systems (GIS) processes.  It draws directly from the excellent AutoGIS course developed by the University of Helsinki:\n",
    "\n",
    "https://automating-gis-processes.github.io/site/index.html"
   ]
  },
  {
   "cell_type": "markdown",
   "id": "genetic-differential",
   "metadata": {},
   "source": [
    "## Group Project\n",
    "\n",
    "We introduce a group project that the class is to complete together over the next week.  The goal of the project is to calculate the number of lane miles of roadway in each urbanized area in Kentucky.  We will do this in three steps:\n",
    "\n",
    "1. In class today, we will work through the AutoGIS lessons you will need to do this, and point you to other lessons that may be useful.\n",
    "\n",
    "2. For Thursday, your group is to propose the basic method for how you will approach this.  You should write this down in english or in psuedo code, but you are not to write any python code.  You should identify specific files you will work with and specific data fields you will reference.  Each group will present their approach in class on Thursday.  \n",
    "\n",
    "3. For next Tuesday, your group will work together to implement your strategy.  In class on Tuesday, we will compare the answers to see if the groups get the same result.  \n",
    "\n",
    "The data you need are avialable from the Kentucky Transportation Cabinet here: \n",
    "\n",
    "https://transportation.ky.gov/Planning/Pages/Centerlines.aspx"
   ]
  },
  {
   "cell_type": "markdown",
   "id": "written-following",
   "metadata": {},
   "source": [
    "## Lessons\n",
    "\n",
    "Several relevant lessons are available from the AutoGIS course:\n",
    "\n",
    "L2/01-geopandas-basics.ipynb\n",
    "L2/02-projections.ipynb\n",
    "\n",
    "L3/02_point-in-polygon.ipynb\n",
    "L3/03_spatial-join.ipynb\n",
    "L3/04_nearest-neighbhor.ipynb\n",
    "(see options for making it faster if needed)\n",
    "\n",
    "L4/geometric-operations.ipynb"
   ]
  },
  {
   "cell_type": "code",
   "execution_count": null,
   "id": "nasty-celebration",
   "metadata": {},
   "outputs": [],
   "source": []
  }
 ],
 "metadata": {
  "kernelspec": {
   "display_name": "Python 3",
   "language": "python",
   "name": "python3"
  },
  "language_info": {
   "codemirror_mode": {
    "name": "ipython",
    "version": 3
   },
   "file_extension": ".py",
   "mimetype": "text/x-python",
   "name": "python",
   "nbconvert_exporter": "python",
   "pygments_lexer": "ipython3",
   "version": "3.9.2"
  }
 },
 "nbformat": 4,
 "nbformat_minor": 5
}
